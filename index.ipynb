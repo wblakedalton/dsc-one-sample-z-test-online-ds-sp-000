{
 "cells": [
  {
   "cell_type": "markdown",
   "metadata": {},
   "source": [
    "# One-Sample z-Test\n",
    "\n",
    "## Introduction\n",
    "\n",
    "A one-sample $z$-test is the most basic type of hypothesis test. It is performed when the population means and standard deviation are known. This makes the analysis very simple. The main takeaway from this lesson and the next lab is to have an idea around the process of hypothesis testing and understanding test statistics and p-values. \n",
    "\n",
    "## Objectives:\n",
    "You will be able to:\n",
    "\n",
    "* Explain use cases for a 1-sample z-test\n",
    "* Set up null and alternative hypotheses\n",
    "* Use the z-table and scipy methods to acquire the p value for a given z-score\n",
    "* Calculate and interpret p-value for significance of results\n",
    "\n",
    "## One-Sample $z$-test\n",
    "\n",
    "**The one-sample $z$-test is best suited for situations where you want to investigate whether a given \"sample\" comes from a particular \"population\".**\n",
    "\n",
    "The best way to explain how one-sample $z$-tests work is by using an example.\n",
    "\n",
    "Let's set up a problem scenario (known as a research question or analytical question) and apply a one-sample $z$-test, while explaining all the steps required to call our results \"statistically significant\".\n",
    "\n",
    "## The Analytical Question \n",
    "\n",
    "A data scientist wants to examine if there is an effect on IQ scores when using tutors. To analyze this, she conducts IQ tests on a sample of 40 students and wants to compare her students' IQ to the general population IQ. The way an IQ score is structured, we know that a standardized IQ test has a mean of 100 and a standard deviation of 16. When she tests her group of students, however, she gets an average IQ of 103. Based on this finding, does tutoring make a difference?\n",
    "\n",
    "## Step 1: State Your Hypotheses\n",
    "\n",
    "### The Alternative Hypothesis ($H_a$)\n",
    "\n",
    "The alternative hypothesis always reflects the idea or theory that needs to be tested. For this problem, you want to test if tutoring has resulted in a significant increase in student IQ. So, you would write it down as:\n",
    "\n",
    "> The sample mean is **significantly** bigger than the population mean\n",
    "\n",
    "Again, significance is key here. If we denote the sample mean as $\\bar{x}$, and population mean as mu ($\\mu$), you can write the alternative hypothesis as:\n",
    "\n",
    "$$\\large H_a\\text{:   }\\mu < \\bar{x}$$\n",
    "\n",
    "The alternative hypothesis here is that the population mean $\\mu$ is less than the sample mean $\\bar{x}$. In other situations, you could check for both possibilities of $\\mu$ being smaller OR bigger than by checking  $\\mu \\neq \\bar{x}$. \n",
    "\n",
    "Maybe the tutoring results in a lower IQ... Who knows!\n",
    "\n",
    "For now, you'll just check for a **significant increase**, for now, to keep the process simple.\n",
    "\n",
    "### The Null Hypothesis ($H_0$)\n",
    "\n",
    "For a one-sample $z$-test, you define your null hypothesis as there being **no significant difference** between the specified sample and population means. In other words, under the null hypothesis, you assume that any observed (generally small) difference between the sample and population means may be present due to sampling or experimental error. Considering this, for this problem, you can define a null hypothesis ($H_0$) as:\n",
    "\n",
    "> There is **no significant difference** between the sample mean and population mean \n",
    "\n",
    "Remember the emphasis is on a _significant_ difference, rather than just any difference as a natural result of taking samples.\n",
    "\n",
    "Denoting the sample mean as $\\bar{x}$, and the population mean as $\\mu$, you can write the null hypothesis as:\n",
    "\n",
    "$$\\large H_0\\text{:   }\\mu \\geq \\bar{x}$$\n",
    "\n",
    "\n",
    "## Step 2: Specify a Significance Level (alpha)\n",
    "\n",
    "Now that your hypotheses are in place, you have to decide on your significance level alpha ($\\alpha$) as a cut-off value to define whether you can reject your null hypothesis or not.\n",
    "\n",
    "As discussed previously, often, $\\alpha$ is set to 0.05, which also has as a side-effect that there is a 5 percent chance that you will reject the null hypothesis when it is true.\n",
    "\n",
    "Later, you'll see that using $\\alpha$, you'll formulate your test result as: \"with a confidence level of 95%, we can state that...\". For a $z$-distribution, this can be shown as below:\n",
    "\n",
    "<img src=\"images/hypothesis_test.png\" width=670>\n",
    "\n",
    "If you test both sides of the distribution ($\\mu \\neq \\bar{x}$, when $\\mu$ can either be smaller OR bigger), you need to perform a two-tail test to see if tutoring results in lower OR higher IQs.\n",
    "\n",
    "Each purple region would be calculated as $\\dfrac{\\alpha}{2}$. When testing a single side (as in the example) i.e. just higher OR just lower, you can use a one-tail test as shown in the first and second images. The $\\alpha$ value we use is 0.05 or $5\\%$.\n",
    "\n",
    "## Step 3: Calculate the test statistic\n",
    "\n",
    "For $z$-tests, a $z$-statistic is used as our test statistic. You'll see other test statistics suitable for other tests later. A one-sample $z$-statistic is calculated as:\n",
    "\n",
    "$$ \\large \\text{z-statistic} = \\dfrac{\\bar x - \\mu_0}{{\\sigma}/{\\sqrt{n}}} $$\n",
    "\n",
    "This formula slightly differs from the standard score formula. It includes the square root of $n$ to reflect that we are dealing with the sample variance here. \n",
    "\n",
    "Now, all you need to do is use this formula given your sample mean $\\bar x$, the population standard deviation $\\sigma$, and the number of items in the sample ($n$). $\\mu_0$ is the mean you're testing the hypothesis for, or the \"hypothesized mean\". \n",
    "\n",
    "Let's use Python to calculate this. "
   ]
  },
  {
   "cell_type": "code",
   "execution_count": 1,
   "metadata": {},
   "outputs": [
    {
     "data": {
      "text/plain": [
       "1.1858541225631423"
      ]
     },
     "execution_count": 1,
     "metadata": {},
     "output_type": "execute_result"
    }
   ],
   "source": [
    "import scipy.stats as stats\n",
    "from math import sqrt\n",
    "x_bar = 103 # sample mean \n",
    "n = 40 # number of students\n",
    "sigma = 16 # sd of population\n",
    "mu = 100 # Population mean \n",
    "\n",
    "z = (x_bar - mu)/(sigma/sqrt(n))\n",
    "z"
   ]
  },
  {
   "cell_type": "markdown",
   "metadata": {},
   "source": [
    "Let's try to plot this $z$-value on a standard normal distribution to see what it means. "
   ]
  },
  {
   "cell_type": "code",
   "execution_count": 2,
   "metadata": {},
   "outputs": [
    {
     "data": {
      "image/png": "[encoded data removed]",
      "text/plain": [
       "<Figure size 576x396 with 1 Axes>"
      ]
     },
     "metadata": {},
     "output_type": "display_data"
    }
   ],
   "source": [
    "import numpy as np\n",
    "import matplotlib.pyplot as plt\n",
    "%matplotlib inline\n",
    "\n",
    "plt.style.use('seaborn')\n",
    "plt.fill_between(x=np.arange(-4,1.19,0.01),\n",
    "                 y1= stats.norm.pdf(np.arange(-4,1.19,0.01)) ,\n",
    "                 facecolor='red',\n",
    "                 alpha=0.35,\n",
    "                 label= 'Area below z-statistic'\n",
    "                 )\n",
    "\n",
    "plt.fill_between(x=np.arange(1.19,4,0.01), \n",
    "                 y1= stats.norm.pdf(np.arange(1.19,4,0.01)) ,\n",
    "                 facecolor='blue',\n",
    "                 alpha=0.35, \n",
    "                 label= 'Area above z-statistic')\n",
    "plt.legend()\n",
    "plt.title ('z-statistic = 1.19');"
   ]
  },
  {
   "cell_type": "markdown",
   "metadata": {},
   "source": [
    "## Step 4:  Calculate the p-value\n",
    "\n",
    "Remember that $z$-values in a standard normal distribution represent standard deviations. Just like before, you need to look up the related probability value in a $z$-table, or use `scipy.stats` to calculate it directly. \n",
    "In SciPy, the cumulative probability up to the $z$-value can be calculated as:"
   ]
  },
  {
   "cell_type": "code",
   "execution_count": 3,
   "metadata": {},
   "outputs": [
    {
     "data": {
      "text/plain": [
       "0.8821600432854813"
      ]
     },
     "execution_count": 3,
     "metadata": {},
     "output_type": "execute_result"
    }
   ],
   "source": [
    "stats.norm.cdf(z)"
   ]
  },
  {
   "cell_type": "markdown",
   "metadata": {},
   "source": [
    "The percent area under the curve from to a $z$-score of 1.19 is 88.2% (using the $z$-table or SciPy calculations), this means that the average intelligence of the tutored set of students is bigger than 88.2% of the population. But with alpha specified as 0.05, we wanted it to be greater than 95% to prove the hypothesis to be significant.\n",
    "\n",
    "Mathematically, you want to get the p-value, and this can be done by subtracting the $z$-value from 1, since the sum of probabilities is always 1."
   ]
  },
  {
   "cell_type": "code",
   "execution_count": 4,
   "metadata": {},
   "outputs": [
    {
     "data": {
      "text/plain": [
       "0.11783995671451875"
      ]
     },
     "execution_count": 4,
     "metadata": {},
     "output_type": "execute_result"
    }
   ],
   "source": [
    "pval = 1 - stats.norm.cdf(z)\n",
    "pval"
   ]
  },
  {
   "cell_type": "markdown",
   "metadata": {},
   "source": [
    "## Step 5: Interpret p-value\n",
    "\n",
    "Our p-value (0.12) is larger than the alpha of 0.05. So what does that mean? Can you not conclude that tutoring leads to an IQ increase? \n",
    "\n",
    "Well, you still can't really say that for sure. **What we can say is that there is not enough evidence to reject the null hypothesis with the given sample, given an alpha of 0.05.** There are ways to scale experiments up and collect more data or apply sampling techniques to be sure about the real impact. \n",
    "\n",
    "And even when the sample data helps to reject the null hypothesis, you still cannot be 100% sure of the outcome. \n",
    "What you can say, however, is given the evidence, the results show a significant increase in the IQ as a result of tutoring, instead of saying \"tutoring improves IQ\".\n",
    "\n",
    "## Summary \n",
    "\n",
    "In this lesson, you learned to run a one-sample $z$-test to compare sample and population where the population mean and standard deviation are known. This is the most basic test in statistics, but in the real world, the true population means and standard deviations are rarely identifiable and you need to work with samples. That's where more advanced tests come in to play, which you will learn about later."
   ]
  }
 ],
 "metadata": {
  "kernelspec": {
   "display_name": "Python 3",
   "language": "python",
   "name": "python3"
  },
  "language_info": {
   "codemirror_mode": {
    "name": "ipython",
    "version": 3
   },
   "file_extension": ".py",
   "mimetype": "text/x-python",
   "name": "python",
   "nbconvert_exporter": "python",
   "pygments_lexer": "ipython3",
   "version": "3.6.9"
  },
  "toc": {
   "base_numbering": 1,
   "nav_menu": {},
   "number_sections": true,
   "sideBar": true,
   "skip_h1_title": false,
   "title_cell": "Table of Contents",
   "title_sidebar": "Contents",
   "toc_cell": false,
   "toc_position": {},
   "toc_section_display": true,
   "toc_window_display": false
  }
 },
 "nbformat": 4,
 "nbformat_minor": 2
}
